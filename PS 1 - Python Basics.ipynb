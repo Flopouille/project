{
 "cells": [
  {
   "cell_type": "markdown",
   "metadata": {},
   "source": [
    "# PS1: Python basics\n",
    "\n",
    "For this problem set, we will be doing some basic programming excercises in python to get you acquainted with using python and jupyter notebooks.\n",
    "\n",
    "## Preambule\n",
    "### Guidelines\n",
    "\n",
    "All problem sets must be submitted to Lol@ a compiled *notebook* file in PDF. You can achieve this by exporting the notebook in PDF. \n",
    "\n",
    "### <span style='color:green'> Questions to answer are in green</span> \n",
    "But there are sometimes additional details in black. "
   ]
  },
  {
   "cell_type": "markdown",
   "metadata": {},
   "source": [
    "## Knights of Cindora\n",
    "\n",
    "\"You are a proud knight of Cindora whose king, Halbert the Righteous, summoned you a few weeks ago. His Majesty informed you that bandits have settled their camp on the Holy Field and prevent farmers to harvest properly. You are requested to obliterate them all !\"\n",
    "\n",
    "This is the starting point of your new game \"Knights of Cindora\". As a programmer you have to execute some tasks to set the basics of the game. Here is the initial program:"
   ]
  },
  {
   "cell_type": "code",
   "execution_count": 2,
   "metadata": {},
   "outputs": [],
   "source": [
    "# List containing the health of all the bandits\n",
    "health_bandits = [10, 15, 10, 10, 5]\n",
    "\n",
    "# Knight's sword damage\n",
    "knight_sword_damage = 5"
   ]
  },
  {
   "cell_type": "markdown",
   "metadata": {},
   "source": [
    "<span style='color:green'>Your first task is to evaluate the chance of the knight against the bandits. Please read the comments below and execute what they request. </span>"
   ]
  },
  {
   "cell_type": "code",
   "execution_count": 3,
   "metadata": {},
   "outputs": [
    {
     "name": "stdout",
     "output_type": "stream",
     "text": [
      "5\n"
     ]
    }
   ],
   "source": [
    "# Assign the number of bandits to a variable. Use a method of the list class.\n",
    "print(len(health_bandits))"
   ]
  },
  {
   "cell_type": "code",
   "execution_count": 4,
   "metadata": {},
   "outputs": [
    {
     "name": "stdout",
     "output_type": "stream",
     "text": [
      "[10, 25, 35, 45, 50]\n"
     ]
    }
   ],
   "source": [
    "# Assign the cumulated health of bandits listed in \"health_bandits\" to a variable. Be efficient !\n",
    "#health_monsters ?\n",
    "def accumu(lis):\n",
    "    total = 0\n",
    "    for x in lis:\n",
    "        total += x\n",
    "        yield total\n",
    "health_bandits_cumulative = list(accumu(health_bandits))\n",
    "print(list(accumu(health_bandits)))"
   ]
  },
  {
   "cell_type": "code",
   "execution_count": 5,
   "metadata": {},
   "outputs": [
    {
     "name": "stdout",
     "output_type": "stream",
     "text": [
      "[5, 20, 30, 40, 45]\n"
     ]
    }
   ],
   "source": [
    "# The knight is able to throw a single blow to each foe before the bandits start their attack. \n",
    "# Remove the total damage dealt by the knight (knight_sword_damage) to each bandit from the \n",
    "# cumulated health variable, knowing the knight damage power is \"knight_sword_damage\". \n",
    "knight_sword_damage = [x - 5 for x in health_bandits_cumulative]\n",
    "print(list(knight_sword_damage))"
   ]
  },
  {
   "cell_type": "code",
   "execution_count": 6,
   "metadata": {},
   "outputs": [
    {
     "name": "stdout",
     "output_type": "stream",
     "text": [
      "[5, 10, 5, 5]\n",
      "4\n"
     ]
    }
   ],
   "source": [
    "# Remove the bandits that are killed by the knight from \"health_bandits\". Update the variable containing the number of bandits. \n",
    "knight_sword_damage = [x - 5 for x in health_bandits]\n",
    "list(filter(lambda num: num!= 0, list(knight_sword_damage)))\n",
    "health_bandits_last = list(filter(lambda num: num!= 0, list(knight_sword_damage)))\n",
    "print(list(health_bandits_last))\n",
    "print(len(health_bandits_last))"
   ]
  },
  {
   "cell_type": "code",
   "execution_count": 7,
   "metadata": {},
   "outputs": [
    {
     "name": "stdout",
     "output_type": "stream",
     "text": [
      "[5, 10, 5, 5, 40]\n"
     ]
    }
   ],
   "source": [
    "# A new enemy is appearing, it's the boss: Ziraxas the Dreadful ! His insane health equals 40. \n",
    "# Add this information to the \"health_bandits\" variable. \n",
    "health_bandits_last.append(40)\n",
    "print(health_bandits_last)"
   ]
  },
  {
   "cell_type": "markdown",
   "metadata": {},
   "source": [
    "<span style='color:green'> The cumulated health is a useful information but the remaining health of each bandit after the knight hit them is more useful. Use a loop to remove the damage dealt by the sword of the knight from each element of the \"health_bandits\" variable. </span>"
   ]
  },
  {
   "cell_type": "code",
   "execution_count": 8,
   "metadata": {},
   "outputs": [
    {
     "name": "stdout",
     "output_type": "stream",
     "text": [
      "[5, 10, 5, 5, 40]\n"
     ]
    }
   ],
   "source": [
    "# List containing the health of all the bandits\n",
    "health_bandits = [10, 15, 10, 10, 5]\n",
    "\n",
    "# Knight's sword damage\n",
    "knight_sword_damage = 5\n",
    "\n",
    "# Your code here\n",
    "knight_sword_damage = [x - 5 for x in health_bandits]\n",
    "list(filter(lambda num: num!= 0, list(knight_sword_damage)))\n",
    "health_bandits_last = list(filter(lambda num: num!= 0, list(knight_sword_damage)))\n",
    "health_bandits_last.append(40)\n",
    "print(health_bandits_last)"
   ]
  },
  {
   "cell_type": "markdown",
   "metadata": {},
   "source": [
    "For now, information about the knight and bandits are stored in lists or variables. A better solution would be to store this information in dictionnaries. Each key is a characteristics of a character in the game (name, health, damage, ...). Here is an example for one bandit: "
   ]
  },
  {
   "cell_type": "code",
   "execution_count": 9,
   "metadata": {},
   "outputs": [],
   "source": [
    "bandit_1 = {'health': 10, 'damage': 2}"
   ]
  },
  {
   "cell_type": "markdown",
   "metadata": {},
   "source": [
    "<span style='color:green'> Write a dictionnary for each bandit (not the boss) from the \"health_bandits\" lists containing his health and the damage he deals (2). Add each dictionnary to a new list called \"bandits\". </span>"
   ]
  },
  {
   "cell_type": "code",
   "execution_count": 10,
   "metadata": {},
   "outputs": [
    {
     "name": "stdout",
     "output_type": "stream",
     "text": [
      "({'health': 10, 'damage': 2}, {'health': 15, 'damage': 2}, {'health': 10, 'damage': 2}, {'health': 10, 'damage': 2})\n"
     ]
    }
   ],
   "source": [
    "bandit_1 = {'health': 10, 'damage': 2}\n",
    "bandit_2 = {'health': 15, 'damage': 2}\n",
    "bandit_3 = {'health': 10, 'damage': 2}\n",
    "bandit_4 = {'health': 10, 'damage': 2}\n",
    "bandits = bandit_1, bandit_2, bandit_3, bandit_4\n",
    "print(bandits)"
   ]
  },
  {
   "cell_type": "markdown",
   "metadata": {},
   "source": [
    "<span style='color:green'> Use a loop to add a unique id (1, 2, 3, ...) to each bandit's dictionnary. </span>"
   ]
  },
  {
   "cell_type": "code",
   "execution_count": 11,
   "metadata": {},
   "outputs": [
    {
     "name": "stdout",
     "output_type": "stream",
     "text": [
      "({'health': 10, 'damage': 2, 'name': 1}, {'health': 15, 'damage': 2, 'name': 2}, {'health': 10, 'damage': 2, 'name': 3}, {'health': 10, 'damage': 2, 'name': 4})\n"
     ]
    }
   ],
   "source": [
    "bandit_1['name'] = 1\n",
    "bandit_2['name'] = 2\n",
    "bandit_3['name'] = 3\n",
    "bandit_4['name'] = 4\n",
    "print(bandits)"
   ]
  },
  {
   "cell_type": "markdown",
   "metadata": {},
   "source": [
    "<span style='color:green'> Write a dictionnary for the boss and the knight containing his name, his health and the damage he deals. The knight health is 50 and you can create the name you want. The boss damage equals 4. The other information is available above. </span>"
   ]
  },
  {
   "cell_type": "code",
   "execution_count": 12,
   "metadata": {},
   "outputs": [
    {
     "name": "stdout",
     "output_type": "stream",
     "text": [
      "[{'name': 'Ziraxas the Dreadful', 'health': 40, 'damage': 4}, {'name': 'Louis', 'health': 50, 'damage': 5}]\n"
     ]
    }
   ],
   "source": [
    "boss = {'name': 'Ziraxas the Dreadful', 'health': 40, 'damage': 4}\n",
    "knight = {'name': 'Louis', 'health': 50, 'damage': 5}\n",
    "battle = [boss,knight]\n",
    "print(battle)"
   ]
  },
  {
   "cell_type": "markdown",
   "metadata": {},
   "source": [
    "<span style='color:green'> Now you can change the information containing in each dictionnary and know who is the character impacted by this change. Again, assume the knight is able to throw a single blow to each foe (except the boss) before the bandits start their attack. Remove the damage dealt by the knight from each bandit's dictionnary using a loop on the \"bandits\" list. </span>"
   ]
  },
  {
   "cell_type": "code",
   "execution_count": 13,
   "metadata": {},
   "outputs": [
    {
     "name": "stdout",
     "output_type": "stream",
     "text": [
      "({'health': 5, 'damage': 2, 'name': 1}, {'health': 10, 'damage': 2, 'name': 2}, {'health': 5, 'damage': 2, 'name': 3}, {'health': 5, 'damage': 2, 'name': 4})\n"
     ]
    }
   ],
   "source": [
    "for bandit in bandits:\n",
    "    bandit['health'] -= 5\n",
    "print(bandits)"
   ]
  },
  {
   "cell_type": "markdown",
   "metadata": {},
   "source": [
    "Characters' data is now stored properly. Yet events are still not efficiently integrated. Consider the knight damaging bandits multiple times or the reverse. These events could be written in functions that you will call each time you need them instead of repeating the inner code at each event. "
   ]
  },
  {
   "cell_type": "markdown",
   "metadata": {},
   "source": [
    "<span style='color:green'> Create a function \"add_character\" which purpose is to return a dictionnary containing the name, health, damage and type of the character. Type can be either \"enemy\", \"hero\" or \"boss\". Use arguments in a way that you can create a character with customed characteristics. </span>"
   ]
  },
  {
   "cell_type": "code",
   "execution_count": 14,
   "metadata": {},
   "outputs": [
    {
     "name": "stdout",
     "output_type": "stream",
     "text": [
      "{'health': 25, 'damage': 5, 'name': 'Charles', 'type': 'hero'}\n"
     ]
    }
   ],
   "source": [
    "def add_character(health_character, damage_character, name_character, type_character):\n",
    "    character_dict = {'health': health_character, 'damage': damage_character, 'name': name_character, 'type': type_character}\n",
    "    return character_dict\n",
    "#test\n",
    "Charles = add_character(25, 5, 'Charles', 'hero')\n",
    "print(Charles)"
   ]
  },
  {
   "cell_type": "markdown",
   "metadata": {},
   "source": [
    "<span style='color:green'> Create a function \"attack\" which purpose is to decrease the health of a character by a given amount and return the updated dictionnary. Two arguments are needed: the dictionnary of the character who is taking damages and the damage amount. The function should also print the following statement: \"NAME is injured by AMOUNT\", where NAME is the name of the injured character and AMOUNT is the damage amount. In addition of removing health, the function should check if the character is dead or not (no more health). If the character is dead, print the following statement: \"NAME is dead !\", where NAME is the name of the injured character. If the character is the hero, print \"GAME OVER !\" in addition to the previous statement. </span>"
   ]
  },
  {
   "cell_type": "code",
   "execution_count": 15,
   "metadata": {},
   "outputs": [
    {
     "name": "stdout",
     "output_type": "stream",
     "text": [
      "Charles is injured by 25\n",
      "Charles is dead\n"
     ]
    }
   ],
   "source": [
    "damage = 25\n",
    "def attack(character_dict, amount):\n",
    "    character_dict['health'] -= amount\n",
    "    print(character_dict['name'], 'is injured by', amount)\n",
    "    \n",
    "    if character_dict['health'] == 0:\n",
    "        print(character_dict['name'], 'is dead')\n",
    "    elif character_dict['health'] == 0 and character_dict['type'] == 'hero':\n",
    "        print('Game Over')\n",
    "#test\n",
    "attack(Charles, damage)"
   ]
  },
  {
   "cell_type": "markdown",
   "metadata": {},
   "source": [
    "<span style='color:green'> Create a function \"heal\" which purpose is to increase the health of a character by a given amount and return the updated dictionnary. Two arguments are needed: the dictionnary of the character who is recovering health and the healing amount. In addition, print the following statement: \"NAME is healed by AMOUNT !\", where NAME is the name of the character and AMOUNT is the healing amount. </span>"
   ]
  },
  {
   "cell_type": "code",
   "execution_count": 16,
   "metadata": {},
   "outputs": [
    {
     "name": "stdout",
     "output_type": "stream",
     "text": [
      "Charles is healed by 20\n"
     ]
    }
   ],
   "source": [
    "healing = 20\n",
    "def heal(character_dict, amount):\n",
    "    character_dict['health'] += amount\n",
    "    print(character_dict['name'], 'is healed by', amount)\n",
    "\n",
    "heal(Charles, healing)"
   ]
  },
  {
   "cell_type": "markdown",
   "metadata": {},
   "source": [
    "### Let's play the game !\n",
    "\n",
    "\"The knight reaches the Holy Field at night. Two bandits are sitting around the dim light of the firecamp while another one is watching the surroundings, a bow in his hands. The knight is sneaking towards the camp when a howling tears the silent night behind him. The watching bandit looks towards the scream and spot the crouching knight. Before the bandit had the time to alert the camp, the knight rushed fiercely towards him. In the hurry, the bandit nocks and fires hastily an arrow at the knight. The knight's armor is heavy, preventing him to dodge properly or to raise his shield on time. The arrow hits the left leg of the knight. Although the armor absorbs part of the shock, the knight stumbles. He drops his shield right away, reaches the bandit before he shots another arrow and slices him with his two-handed sword. The bandit drops dead and the two others draw their swords simultaneously. The knight steps backward to get his shield back but the howling is resonating again. The knight looks back and spots a massive human form wearing giangantic warhammer... It's Ziraxas the Dreadful, a well-known and ruthless bandit. Even facing a hopeless situation, a knight's duty is to protect the realm of Cindora. The knight is preparing for his final fight when a hissing sound rings above them. The sky darkens and gray clouds stack above the two other bandits. Suddenly a bright light blinds them all and strikes the two bandits, leaving charred corpses. A tall and slender man wearing a staff appears behind dust and smoke. It's certainly another knight of Cindora but time is missing, Ziraxas is wielding his hammer above is head, ready to strike...\" TO BE CONTINUED"
   ]
  },
  {
   "cell_type": "markdown",
   "metadata": {},
   "source": [
    "<span style='color:green'> Translate this small story into a simple game program. Follow these steps using the functions you've coded before: </span>\n",
    "\n",
    "<ol style='color:green'>\n",
    "  <li>Create and store the data for the knight and the three bandits. Name them as you wish. The health and damage of the knight are 50 and 5 respectively. The health and damage of bandits are 5 and 2 respectively.</li>\n",
    "  <li>The knight is hurted by an arrow. Remove the damage of the bandit from the knight's health and return the new data.</li>\n",
    "  <li>The knight slices the bandit wielding the bow. Remove the damage of the knight from the bandit's health and return the new data. </li>\n",
    "  <li> Ziraxas the Dreadul joins the fight. Create his data and store it. You can choose health and damage. </li>\n",
    "  <li> A magic spell strikes the two other bandits. Remove all the health of the two bandits. </li>\n",
    "  <li> A mysterious knight appears. Create his data and store it. You can choose his name, health and damage. </li> \n",
    "</ol> "
   ]
  },
  {
   "cell_type": "code",
   "execution_count": 17,
   "metadata": {},
   "outputs": [
    {
     "name": "stdout",
     "output_type": "stream",
     "text": [
      "[{'name': 'Joe', 'health': 50, 'damage': 5}, {'name': 'Jack', 'health': 5, 'damage': 2}, {'name': 'JhonnyBow', 'health': 5, 'damage': 2}]\n",
      "[{'name': 'Joe', 'health': 48, 'damage': 5}, {'name': 'Jack', 'health': 5, 'damage': 2}, {'name': 'JhonnyBow', 'health': 5, 'damage': 2}]\n",
      "JhonnyBow is dead\n",
      "[{'name': 'Joe', 'health': 48, 'damage': 5}, {'name': 'Jack', 'health': 5, 'damage': 2}]\n",
      "[{'name': 'Joe', 'health': 48, 'damage': 5}, {'name': 'Jack', 'health': 5, 'damage': 2}, {'name': 'Ziraxas The Dreadful', 'health': 100, 'damage': 25}]\n",
      "Jack is dead\n",
      "[{'name': 'Joe', 'health': 48, 'damage': 5}, {'name': 'Ziraxas The Dreadful', 'health': 100, 'damage': 25}]\n",
      "[{'name': 'Joe', 'health': 48, 'damage': 5}, {'name': 'Ziraxas The Dreadful', 'health': 100, 'damage': 25}, {'name': 'Michel The Badass', 'health': 200, 'damage': 50}]\n"
     ]
    }
   ],
   "source": [
    "#1\n",
    "knight = {'name' : 'Joe', 'health' : 50, 'damage' : 5}\n",
    "bandit1 = {'name' : 'Jack', 'health' : 5, 'damage' : 2}\n",
    "bandit2 = {'name' : 'JhonnyBow', 'health' : 5, 'damage' : 2}\n",
    "battle = [knight, bandit1, bandit2]\n",
    "print(battle)\n",
    "#2\n",
    "for person in battle:\n",
    "    if person == knight:\n",
    "        knight['health'] -= bandit2['damage']\n",
    "print(battle)\n",
    "#3\n",
    "for person in battle:\n",
    "    if person == bandit2:\n",
    "        bandit2['health'] -= knight['damage']\n",
    "        if bandit2['health'] == 0:\n",
    "            del battle[2]\n",
    "            print(bandit2['name'], 'is dead')\n",
    "print(battle)\n",
    "#4\n",
    "boss = {'name' : 'Ziraxas The Dreadful', 'health': 100, 'damage': 25}\n",
    "battle.append(boss)\n",
    "print(battle)\n",
    "#5\n",
    "for person in battle:\n",
    "    if person == bandit1: \n",
    "        bandit1['health'] -= 5\n",
    "        if bandit1['health'] == 0:\n",
    "            del battle[1]\n",
    "            print(bandit1['name'], 'is dead')\n",
    "print(battle)\n",
    "#6\n",
    "mysterious_knight = {'name' : 'Michel The Badass', 'health': 200, 'damage': 50}\n",
    "battle.append(mysterious_knight)\n",
    "print(battle)"
   ]
  },
  {
   "cell_type": "markdown",
   "metadata": {},
   "source": [
    "### To be continued... (optional)\n",
    "\n",
    "Aren't you curious of what is happening next ? Write the end of the story yourself and translate it to code. You can use the functions you've created so far or even write new ones. You might have understood that functions can create anything in the game. Why not writing functions to cast spells ? drinking a healing potion ? add armor power to each character or even likelihoods of hitting an opponent ? It's the time for creativity. You won't lose points so give it a try ! "
   ]
  },
  {
   "cell_type": "code",
   "execution_count": null,
   "metadata": {},
   "outputs": [],
   "source": []
  },
  {
   "cell_type": "markdown",
   "metadata": {},
   "source": [
    "### Bonus (optional)\n",
    "\n",
    "In a real game project, data is not stored in dictionnaries. Instead we write classes for every object in a game (hero, enemies, bosses, merchants, items, spells, ...). Then instead of calling a function to create a character we store a new instance a character class. Remember that a class is a kind of \"box\" containing variables and functions. Yet they are called attributes and methods instead. A class is like a template that you can call with the characteristics you want. You can then for example create as many enemies you want with customized characteristics using a constructor of the enemy class (yes it starts to become tough). \n",
    "\n",
    "If you feel comfortable with classes you can create a class for each type of character \"hero\", \"enemy\" and \"boss\", and code the story again using classes. \n",
    "*Hint*: each class contains an attribute for name, health and damage. Name, health and damage must be in the constructor of the class for better flexibility. Each class contains at least one method: \"take_damage\" which removes some damage from the health attributes and check if the character is dead or not. "
   ]
  },
  {
   "cell_type": "code",
   "execution_count": null,
   "metadata": {},
   "outputs": [],
   "source": []
  }
 ],
 "metadata": {
  "kernelspec": {
   "display_name": "Python 3 (ipykernel)",
   "language": "python",
   "name": "python3"
  },
  "language_info": {
   "codemirror_mode": {
    "name": "ipython",
    "version": 3
   },
   "file_extension": ".py",
   "mimetype": "text/x-python",
   "name": "python",
   "nbconvert_exporter": "python",
   "pygments_lexer": "ipython3",
   "version": "3.9.13"
  },
  "toc": {
   "base_numbering": 1,
   "nav_menu": {},
   "number_sections": true,
   "sideBar": true,
   "skip_h1_title": true,
   "title_cell": "Table of Contents",
   "title_sidebar": "Contents",
   "toc_cell": false,
   "toc_position": {
    "height": "calc(100% - 180px)",
    "left": "10px",
    "top": "150px",
    "width": "214px"
   },
   "toc_section_display": true,
   "toc_window_display": false
  },
  "varInspector": {
   "cols": {
    "lenName": 16,
    "lenType": 16,
    "lenVar": 40
   },
   "kernels_config": {
    "python": {
     "delete_cmd_postfix": "",
     "delete_cmd_prefix": "del ",
     "library": "var_list.py",
     "varRefreshCmd": "print(var_dic_list())"
    },
    "r": {
     "delete_cmd_postfix": ") ",
     "delete_cmd_prefix": "rm(",
     "library": "var_list.r",
     "varRefreshCmd": "cat(var_dic_list()) "
    }
   },
   "types_to_exclude": [
    "module",
    "function",
    "builtin_function_or_method",
    "instance",
    "_Feature"
   ],
   "window_display": false
  }
 },
 "nbformat": 4,
 "nbformat_minor": 4
}
